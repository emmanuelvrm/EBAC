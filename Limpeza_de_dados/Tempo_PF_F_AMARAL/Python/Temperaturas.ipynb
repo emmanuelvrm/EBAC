{
 "cells": [
  {
   "cell_type": "markdown",
   "id": "98cf9cb7",
   "metadata": {},
   "source": [
    "Aparência: sol, nublado, chuva\n",
    "Temperatura: -130 ~ 130 F\n",
    "Umidade: 0 ~ 100\n",
    "Jogar: sim/nao\n",
    "Tratar valores NAs"
   ]
  },
  {
   "cell_type": "markdown",
   "id": "e3897dce",
   "metadata": {
    "ExecuteTime": {
     "end_time": "2024-03-27T20:31:47.522675Z",
     "start_time": "2024-03-27T20:31:47.519432Z"
    }
   },
   "source": [
    "### Análise"
   ]
  },
  {
   "cell_type": "code",
   "execution_count": 61,
   "id": "d6562b2b",
   "metadata": {
    "ExecuteTime": {
     "end_time": "2024-03-27T20:10:31.913518Z",
     "start_time": "2024-03-27T20:10:31.907192Z"
    }
   },
   "outputs": [],
   "source": [
    "import pandas as pd"
   ]
  },
  {
   "cell_type": "code",
   "execution_count": 120,
   "id": "0fe5dfa3",
   "metadata": {
    "ExecuteTime": {
     "end_time": "2024-03-27T20:46:13.308317Z",
     "start_time": "2024-03-27T20:46:13.301729Z"
    }
   },
   "outputs": [],
   "source": [
    "df = pd.read_csv(\"../Data/tempo.csv\", sep=\";\")"
   ]
  },
  {
   "cell_type": "code",
   "execution_count": 5,
   "id": "858898a9",
   "metadata": {
    "ExecuteTime": {
     "end_time": "2024-03-27T19:18:00.156822Z",
     "start_time": "2024-03-27T19:18:00.143636Z"
    }
   },
   "outputs": [
    {
     "data": {
      "text/html": [
       "<div>\n",
       "<style scoped>\n",
       "    .dataframe tbody tr th:only-of-type {\n",
       "        vertical-align: middle;\n",
       "    }\n",
       "\n",
       "    .dataframe tbody tr th {\n",
       "        vertical-align: top;\n",
       "    }\n",
       "\n",
       "    .dataframe thead th {\n",
       "        text-align: right;\n",
       "    }\n",
       "</style>\n",
       "<table border=\"1\" class=\"dataframe\">\n",
       "  <thead>\n",
       "    <tr style=\"text-align: right;\">\n",
       "      <th></th>\n",
       "      <th>Aparencia</th>\n",
       "      <th>Temperatura</th>\n",
       "      <th>Umidade</th>\n",
       "      <th>Vento</th>\n",
       "      <th>Jogar</th>\n",
       "    </tr>\n",
       "  </thead>\n",
       "  <tbody>\n",
       "    <tr>\n",
       "      <th>0</th>\n",
       "      <td>sol</td>\n",
       "      <td>85</td>\n",
       "      <td>85.0</td>\n",
       "      <td>FALSO</td>\n",
       "      <td>nao</td>\n",
       "    </tr>\n",
       "    <tr>\n",
       "      <th>1</th>\n",
       "      <td>sol</td>\n",
       "      <td>80</td>\n",
       "      <td>90.0</td>\n",
       "      <td>VERDADEIRO</td>\n",
       "      <td>nao</td>\n",
       "    </tr>\n",
       "    <tr>\n",
       "      <th>2</th>\n",
       "      <td>nublado</td>\n",
       "      <td>83</td>\n",
       "      <td>86.0</td>\n",
       "      <td>FALSO</td>\n",
       "      <td>sim</td>\n",
       "    </tr>\n",
       "    <tr>\n",
       "      <th>3</th>\n",
       "      <td>chuva</td>\n",
       "      <td>70</td>\n",
       "      <td>NaN</td>\n",
       "      <td>FALSO</td>\n",
       "      <td>sim</td>\n",
       "    </tr>\n",
       "    <tr>\n",
       "      <th>4</th>\n",
       "      <td>chuva</td>\n",
       "      <td>68</td>\n",
       "      <td>80.0</td>\n",
       "      <td>FALSO</td>\n",
       "      <td>sim</td>\n",
       "    </tr>\n",
       "  </tbody>\n",
       "</table>\n",
       "</div>"
      ],
      "text/plain": [
       "  Aparencia  Temperatura  Umidade       Vento Jogar\n",
       "0       sol           85     85.0       FALSO   nao\n",
       "1       sol           80     90.0  VERDADEIRO   nao\n",
       "2   nublado           83     86.0       FALSO   sim\n",
       "3     chuva           70      NaN       FALSO   sim\n",
       "4     chuva           68     80.0       FALSO   sim"
      ]
     },
     "execution_count": 5,
     "metadata": {},
     "output_type": "execute_result"
    }
   ],
   "source": [
    "df.head(5)"
   ]
  },
  {
   "cell_type": "code",
   "execution_count": 12,
   "id": "6fdcf029",
   "metadata": {
    "ExecuteTime": {
     "end_time": "2024-03-27T19:19:08.870007Z",
     "start_time": "2024-03-27T19:19:08.863678Z"
    }
   },
   "outputs": [
    {
     "data": {
      "text/plain": [
       "(14, 5)"
      ]
     },
     "execution_count": 12,
     "metadata": {},
     "output_type": "execute_result"
    }
   ],
   "source": [
    "df.shape"
   ]
  },
  {
   "cell_type": "code",
   "execution_count": 15,
   "id": "dc98a48c",
   "metadata": {
    "ExecuteTime": {
     "end_time": "2024-03-27T19:20:47.572902Z",
     "start_time": "2024-03-27T19:20:47.550225Z"
    }
   },
   "outputs": [
    {
     "name": "stdout",
     "output_type": "stream",
     "text": [
      "<class 'pandas.core.frame.DataFrame'>\n",
      "RangeIndex: 14 entries, 0 to 13\n",
      "Data columns (total 5 columns):\n",
      " #   Column       Non-Null Count  Dtype  \n",
      "---  ------       --------------  -----  \n",
      " 0   Aparencia    14 non-null     object \n",
      " 1   Temperatura  14 non-null     int64  \n",
      " 2   Umidade      13 non-null     float64\n",
      " 3   Vento        13 non-null     object \n",
      " 4   Jogar        14 non-null     object \n",
      "dtypes: float64(1), int64(1), object(3)\n",
      "memory usage: 688.0+ bytes\n"
     ]
    }
   ],
   "source": [
    "df.info()"
   ]
  },
  {
   "cell_type": "code",
   "execution_count": 16,
   "id": "e7007942",
   "metadata": {
    "ExecuteTime": {
     "end_time": "2024-03-27T19:21:36.599548Z",
     "start_time": "2024-03-27T19:21:36.579365Z"
    }
   },
   "outputs": [
    {
     "data": {
      "text/html": [
       "<div>\n",
       "<style scoped>\n",
       "    .dataframe tbody tr th:only-of-type {\n",
       "        vertical-align: middle;\n",
       "    }\n",
       "\n",
       "    .dataframe tbody tr th {\n",
       "        vertical-align: top;\n",
       "    }\n",
       "\n",
       "    .dataframe thead th {\n",
       "        text-align: right;\n",
       "    }\n",
       "</style>\n",
       "<table border=\"1\" class=\"dataframe\">\n",
       "  <thead>\n",
       "    <tr style=\"text-align: right;\">\n",
       "      <th></th>\n",
       "      <th>count</th>\n",
       "      <th>unique</th>\n",
       "      <th>top</th>\n",
       "      <th>freq</th>\n",
       "    </tr>\n",
       "  </thead>\n",
       "  <tbody>\n",
       "    <tr>\n",
       "      <th>Aparencia</th>\n",
       "      <td>14</td>\n",
       "      <td>4</td>\n",
       "      <td>sol</td>\n",
       "      <td>5</td>\n",
       "    </tr>\n",
       "    <tr>\n",
       "      <th>Vento</th>\n",
       "      <td>13</td>\n",
       "      <td>2</td>\n",
       "      <td>FALSO</td>\n",
       "      <td>7</td>\n",
       "    </tr>\n",
       "    <tr>\n",
       "      <th>Jogar</th>\n",
       "      <td>14</td>\n",
       "      <td>2</td>\n",
       "      <td>sim</td>\n",
       "      <td>9</td>\n",
       "    </tr>\n",
       "  </tbody>\n",
       "</table>\n",
       "</div>"
      ],
      "text/plain": [
       "          count unique    top freq\n",
       "Aparencia    14      4    sol    5\n",
       "Vento        13      2  FALSO    7\n",
       "Jogar        14      2    sim    9"
      ]
     },
     "execution_count": 16,
     "metadata": {},
     "output_type": "execute_result"
    }
   ],
   "source": [
    "df.select_dtypes('object').describe().transpose()"
   ]
  },
  {
   "cell_type": "code",
   "execution_count": 17,
   "id": "c50717fe",
   "metadata": {
    "ExecuteTime": {
     "end_time": "2024-03-27T19:21:59.414579Z",
     "start_time": "2024-03-27T19:21:59.389580Z"
    }
   },
   "outputs": [
    {
     "data": {
      "text/html": [
       "<div>\n",
       "<style scoped>\n",
       "    .dataframe tbody tr th:only-of-type {\n",
       "        vertical-align: middle;\n",
       "    }\n",
       "\n",
       "    .dataframe tbody tr th {\n",
       "        vertical-align: top;\n",
       "    }\n",
       "\n",
       "    .dataframe thead th {\n",
       "        text-align: right;\n",
       "    }\n",
       "</style>\n",
       "<table border=\"1\" class=\"dataframe\">\n",
       "  <thead>\n",
       "    <tr style=\"text-align: right;\">\n",
       "      <th></th>\n",
       "      <th>count</th>\n",
       "      <th>mean</th>\n",
       "      <th>std</th>\n",
       "      <th>min</th>\n",
       "      <th>25%</th>\n",
       "      <th>50%</th>\n",
       "      <th>75%</th>\n",
       "      <th>max</th>\n",
       "    </tr>\n",
       "  </thead>\n",
       "  <tbody>\n",
       "    <tr>\n",
       "      <th>Temperatura</th>\n",
       "      <td>14.0</td>\n",
       "      <td>155.571429</td>\n",
       "      <td>306.433759</td>\n",
       "      <td>64.0</td>\n",
       "      <td>69.25</td>\n",
       "      <td>73.5</td>\n",
       "      <td>80.75</td>\n",
       "      <td>1220.0</td>\n",
       "    </tr>\n",
       "    <tr>\n",
       "      <th>Umidade</th>\n",
       "      <td>13.0</td>\n",
       "      <td>89.769231</td>\n",
       "      <td>34.540203</td>\n",
       "      <td>65.0</td>\n",
       "      <td>70.00</td>\n",
       "      <td>85.0</td>\n",
       "      <td>90.00</td>\n",
       "      <td>200.0</td>\n",
       "    </tr>\n",
       "  </tbody>\n",
       "</table>\n",
       "</div>"
      ],
      "text/plain": [
       "             count        mean         std   min    25%   50%    75%     max\n",
       "Temperatura   14.0  155.571429  306.433759  64.0  69.25  73.5  80.75  1220.0\n",
       "Umidade       13.0   89.769231   34.540203  65.0  70.00  85.0  90.00   200.0"
      ]
     },
     "execution_count": 17,
     "metadata": {},
     "output_type": "execute_result"
    }
   ],
   "source": [
    "df.select_dtypes('number').describe().transpose()"
   ]
  },
  {
   "cell_type": "code",
   "execution_count": 18,
   "id": "b3148dc2",
   "metadata": {
    "ExecuteTime": {
     "end_time": "2024-03-27T19:24:49.281203Z",
     "start_time": "2024-03-27T19:24:49.272952Z"
    }
   },
   "outputs": [
    {
     "data": {
      "text/plain": [
       "Index(['Aparencia', 'Temperatura', 'Umidade', 'Vento', 'Jogar'], dtype='object')"
      ]
     },
     "execution_count": 18,
     "metadata": {},
     "output_type": "execute_result"
    }
   ],
   "source": [
    "df.columns"
   ]
  },
  {
   "cell_type": "code",
   "execution_count": 24,
   "id": "6176afe5",
   "metadata": {
    "ExecuteTime": {
     "end_time": "2024-03-27T19:29:44.263201Z",
     "start_time": "2024-03-27T19:29:44.253382Z"
    }
   },
   "outputs": [
    {
     "name": "stdout",
     "output_type": "stream",
     "text": [
      "Aparencia\n",
      "sol        5\n",
      "chuva      5\n",
      "nublado    3\n",
      "menos      1\n",
      "Name: Aparencia, dtype: int64\n",
      "------------------------------\n",
      "Vento\n",
      "FALSO         7\n",
      "VERDADEIRO    6\n",
      "NaN           1\n",
      "Name: Vento, dtype: int64\n",
      "------------------------------\n",
      "Jogar\n",
      "sim    9\n",
      "nao    5\n",
      "Name: Jogar, dtype: int64\n",
      "------------------------------\n"
     ]
    }
   ],
   "source": [
    "for a in df.select_dtypes('object'):\n",
    "    print(a)\n",
    "    print(df[a].value_counts(dropna=False))\n",
    "    print(\"-\"*30)"
   ]
  },
  {
   "cell_type": "code",
   "execution_count": 42,
   "id": "5426d006",
   "metadata": {
    "ExecuteTime": {
     "end_time": "2024-03-27T19:47:26.610107Z",
     "start_time": "2024-03-27T19:47:26.448150Z"
    }
   },
   "outputs": [
    {
     "data": {
      "image/png": "[encoded data removed]",
      "text/plain": [
       "<Figure size 640x480 with 1 Axes>"
      ]
     },
     "metadata": {},
     "output_type": "display_data"
    }
   ],
   "source": [
    "df[\"Umidade\"].plot.box();"
   ]
  },
  {
   "cell_type": "code",
   "execution_count": 41,
   "id": "9e050670",
   "metadata": {
    "ExecuteTime": {
     "end_time": "2024-03-27T19:47:14.265743Z",
     "start_time": "2024-03-27T19:47:14.101742Z"
    }
   },
   "outputs": [
    {
     "data": {
      "image/png": "[encoded data removed]",
      "text/plain": [
       "<Figure size 640x480 with 1 Axes>"
      ]
     },
     "metadata": {},
     "output_type": "display_data"
    }
   ],
   "source": [
    "df[\"Temperatura\"].plot.box(showfliers=False);"
   ]
  },
  {
   "cell_type": "code",
   "execution_count": 43,
   "id": "75434890",
   "metadata": {
    "ExecuteTime": {
     "end_time": "2024-03-27T19:47:38.788652Z",
     "start_time": "2024-03-27T19:47:38.630335Z"
    }
   },
   "outputs": [
    {
     "data": {
      "image/png": "[encoded data removed]",
      "text/plain": [
       "<Figure size 640x480 with 1 Axes>"
      ]
     },
     "metadata": {},
     "output_type": "display_data"
    }
   ],
   "source": [
    "df[\"Temperatura\"].plot.box();"
   ]
  },
  {
   "cell_type": "code",
   "execution_count": 101,
   "id": "20f56af6",
   "metadata": {
    "ExecuteTime": {
     "end_time": "2024-03-27T20:34:28.372501Z",
     "start_time": "2024-03-27T20:34:28.363117Z"
    }
   },
   "outputs": [
    {
     "data": {
      "text/plain": [
       "Aparencia      0\n",
       "Temperatura    0\n",
       "Umidade        1\n",
       "Vento          1\n",
       "Jogar          0\n",
       "dtype: int64"
      ]
     },
     "execution_count": 101,
     "metadata": {},
     "output_type": "execute_result"
    }
   ],
   "source": [
    "df.isna().sum()"
   ]
  },
  {
   "cell_type": "markdown",
   "id": "7a76ced5",
   "metadata": {},
   "source": [
    "### Tratamento"
   ]
  },
  {
   "cell_type": "markdown",
   "id": "713d0ec1",
   "metadata": {},
   "source": [
    ">Observações\n",
    "* Temperatura e umidade possuem valores discrepantes\n",
    "* Aparencia possui um valor inadequado\n",
    "* Umidade e vento possuem Nulos"
   ]
  },
  {
   "cell_type": "markdown",
   "id": "d7024794",
   "metadata": {},
   "source": [
    ">Decisões\n",
    "* Em aparencia o valor inadequado será subistituído pela moda de temperatura com características mais próximas visto que é bimodal\n",
    "* Os nulos e valores discrepantes serão subistituídos pelas modas das devidas colunas"
   ]
  },
  {
   "cell_type": "code",
   "execution_count": 50,
   "id": "aae3be88",
   "metadata": {
    "ExecuteTime": {
     "end_time": "2024-03-27T19:55:30.855127Z",
     "start_time": "2024-03-27T19:55:30.798413Z"
    }
   },
   "outputs": [
    {
     "name": "stdout",
     "output_type": "stream",
     "text": [
      "chuva\n",
      "             count    mean        std   min   25%   50%     75%    max\n",
      "Temperatura    5.0   69.80   3.701351  65.0  68.0  70.0   71.00   75.0\n",
      "Umidade        4.0  110.25  60.444878  70.0  77.5  85.5  118.25  200.0\n",
      "\n",
      "sol\n",
      "             count   mean         std   min   25%   50%   75%     max\n",
      "Temperatura    5.0  305.8  511.087762  69.0  75.0  80.0  85.0  1220.0\n",
      "Umidade        5.0   82.0   11.510864  70.0  70.0  85.0  90.0    95.0\n",
      "\n",
      "nublado\n",
      "             count       mean       std   min   25%   50%   75%   max\n",
      "Temperatura    3.0  78.666667  5.859465  72.0  76.5  81.0  82.0  83.0\n",
      "Umidade        3.0  83.666667  7.767453  75.0  80.5  86.0  88.0  90.0\n",
      "\n",
      "menos\n",
      "             count  mean  std   min   25%   50%   75%   max\n",
      "Temperatura    1.0  64.0  NaN  64.0  64.0  64.0  64.0  64.0\n",
      "Umidade        1.0  65.0  NaN  65.0  65.0  65.0  65.0  65.0\n"
     ]
    }
   ],
   "source": [
    "print(\"chuva\")\n",
    "print(df[df[\"Aparencia\"] == \"chuva\"].describe().T)\n",
    "print()\n",
    "print(\"sol\")\n",
    "print(df[df[\"Aparencia\"] == \"sol\"].describe().T)\n",
    "print()\n",
    "print(\"nublado\")\n",
    "print(df[df[\"Aparencia\"] == \"nublado\"].describe().T)\n",
    "print()\n",
    "print(\"menos\")\n",
    "print(df[df[\"Aparencia\"] == \"menos\"].describe().T)"
   ]
  },
  {
   "cell_type": "markdown",
   "id": "acb07c60",
   "metadata": {},
   "source": [
    "A \"Aparececia\" com caracterísicas mais próxima é \"chuva\""
   ]
  },
  {
   "cell_type": "code",
   "execution_count": 122,
   "id": "06532048",
   "metadata": {
    "ExecuteTime": {
     "end_time": "2024-03-27T20:47:07.129577Z",
     "start_time": "2024-03-27T20:47:07.124633Z"
    }
   },
   "outputs": [],
   "source": [
    "df.loc[df[\"Aparencia\"] == \"menos\", \"Aparencia\"] = \"chuva\""
   ]
  },
  {
   "cell_type": "code",
   "execution_count": 123,
   "id": "1d03eaf9",
   "metadata": {
    "ExecuteTime": {
     "end_time": "2024-03-27T20:47:09.166088Z",
     "start_time": "2024-03-27T20:47:09.155421Z"
    }
   },
   "outputs": [],
   "source": [
    "# Tratamento de temperaturas\n",
    "df.loc[df[\"Temperatura\"] > 130, \"Temperatura\"] = df[\"Temperatura\"].mode()[0]\n",
    "\n",
    "# Tratamento de umidade\n",
    "df.loc[df[\"Umidade\"] > 100, \"Umidade\"] = df[\"Umidade\"].mode()\n",
    "df[\"Umidade\"].fillna(df[\"Umidade\"].mode()[0], inplace=True)\n",
    "\n",
    "# Tratamento de Vento\n",
    "df[\"Vento\"].fillna((df[\"Vento\"].mode()[0]), inplace=True)\n"
   ]
  },
  {
   "cell_type": "markdown",
   "id": "aaf42f71",
   "metadata": {},
   "source": [
    "* Checando mudanças"
   ]
  },
  {
   "cell_type": "code",
   "execution_count": 124,
   "id": "bdc14250",
   "metadata": {
    "ExecuteTime": {
     "end_time": "2024-03-27T20:47:13.356537Z",
     "start_time": "2024-03-27T20:47:13.347166Z"
    }
   },
   "outputs": [
    {
     "data": {
      "text/plain": [
       "Aparencia      0\n",
       "Temperatura    0\n",
       "Umidade        0\n",
       "Vento          0\n",
       "Jogar          0\n",
       "dtype: int64"
      ]
     },
     "execution_count": 124,
     "metadata": {},
     "output_type": "execute_result"
    }
   ],
   "source": [
    "df.isna().sum()"
   ]
  },
  {
   "cell_type": "code",
   "execution_count": 125,
   "id": "fbb44c25",
   "metadata": {
    "ExecuteTime": {
     "end_time": "2024-03-27T20:47:16.982696Z",
     "start_time": "2024-03-27T20:47:16.959012Z"
    }
   },
   "outputs": [
    {
     "data": {
      "text/html": [
       "<div>\n",
       "<style scoped>\n",
       "    .dataframe tbody tr th:only-of-type {\n",
       "        vertical-align: middle;\n",
       "    }\n",
       "\n",
       "    .dataframe tbody tr th {\n",
       "        vertical-align: top;\n",
       "    }\n",
       "\n",
       "    .dataframe thead th {\n",
       "        text-align: right;\n",
       "    }\n",
       "</style>\n",
       "<table border=\"1\" class=\"dataframe\">\n",
       "  <thead>\n",
       "    <tr style=\"text-align: right;\">\n",
       "      <th></th>\n",
       "      <th>count</th>\n",
       "      <th>mean</th>\n",
       "      <th>std</th>\n",
       "      <th>min</th>\n",
       "      <th>25%</th>\n",
       "      <th>50%</th>\n",
       "      <th>75%</th>\n",
       "      <th>max</th>\n",
       "    </tr>\n",
       "  </thead>\n",
       "  <tbody>\n",
       "    <tr>\n",
       "      <th>Temperatura</th>\n",
       "      <td>14.0</td>\n",
       "      <td>73.785714</td>\n",
       "      <td>6.565394</td>\n",
       "      <td>64.0</td>\n",
       "      <td>69.25</td>\n",
       "      <td>73.5</td>\n",
       "      <td>78.75</td>\n",
       "      <td>85.0</td>\n",
       "    </tr>\n",
       "    <tr>\n",
       "      <th>Umidade</th>\n",
       "      <td>14.0</td>\n",
       "      <td>79.071429</td>\n",
       "      <td>10.171334</td>\n",
       "      <td>65.0</td>\n",
       "      <td>70.00</td>\n",
       "      <td>77.5</td>\n",
       "      <td>89.00</td>\n",
       "      <td>95.0</td>\n",
       "    </tr>\n",
       "  </tbody>\n",
       "</table>\n",
       "</div>"
      ],
      "text/plain": [
       "             count       mean        std   min    25%   50%    75%   max\n",
       "Temperatura   14.0  73.785714   6.565394  64.0  69.25  73.5  78.75  85.0\n",
       "Umidade       14.0  79.071429  10.171334  65.0  70.00  77.5  89.00  95.0"
      ]
     },
     "execution_count": 125,
     "metadata": {},
     "output_type": "execute_result"
    }
   ],
   "source": [
    "df.select_dtypes('number').describe().transpose()"
   ]
  },
  {
   "cell_type": "code",
   "execution_count": 126,
   "id": "035e9b5e",
   "metadata": {
    "ExecuteTime": {
     "end_time": "2024-03-27T20:47:21.300268Z",
     "start_time": "2024-03-27T20:47:21.292388Z"
    }
   },
   "outputs": [
    {
     "name": "stdout",
     "output_type": "stream",
     "text": [
      "Aparencia\n",
      "chuva      6\n",
      "sol        5\n",
      "nublado    3\n",
      "Name: Aparencia, dtype: int64\n",
      "------------------------------\n",
      "Vento\n",
      "FALSO         8\n",
      "VERDADEIRO    6\n",
      "Name: Vento, dtype: int64\n",
      "------------------------------\n",
      "Jogar\n",
      "sim    9\n",
      "nao    5\n",
      "Name: Jogar, dtype: int64\n",
      "------------------------------\n"
     ]
    }
   ],
   "source": [
    "for a in df.select_dtypes('object'):\n",
    "    print(a)\n",
    "    print(df[a].value_counts(dropna=False))\n",
    "    print(\"-\"*30)"
   ]
  }
 ],
 "metadata": {
  "kernelspec": {
   "display_name": "Python 3 (ipykernel)",
   "language": "python",
   "name": "python3"
  },
  "language_info": {
   "codemirror_mode": {
    "name": "ipython",
    "version": 3
   },
   "file_extension": ".py",
   "mimetype": "text/x-python",
   "name": "python",
   "nbconvert_exporter": "python",
   "pygments_lexer": "ipython3",
   "version": "3.10.9"
  }
 },
 "nbformat": 4,
 "nbformat_minor": 5
}
